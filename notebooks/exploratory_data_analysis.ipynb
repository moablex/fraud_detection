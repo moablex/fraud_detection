{
 "cells": [
  {
   "cell_type": "markdown",
   "metadata": {},
   "source": [
    "# Exploratory Data Analysis (EDA) for Fraud Detection Project\n",
    "\n",
    "This notebook performs exploratory data analysis on the `Fraud_Data.csv` and `creditcard.csv` datasets to understand their structure, identify patterns, and highlight class imbalance. The goal is to generate insights and visualizations for the fraud detection project, fulfilling the requirements for Task 1 (Data Analysis and Preprocessing).\n",
    "\n",
    "## Objectives\n",
    "- Analyze class distribution to understand the imbalance.\n",
    "- Perform univariate analysis (distributions of key features: `purchase_value`, `age`, `Amount`).\n",
    "- Perform bivariate analysis (relationships between features and target `class`/`Class`).\n",
    "- Analyze categorical features (`source`, `browser`, `sex`) in `Fraud_Data`.\n",
    "- Generate a correlation heatmap for the `creditcard` dataset.\n",
    "- Save visualizations to the `plots/` directory for inclusion in the project report."
   ]
  },
  {
   "cell_type": "code",
   "execution_count": 1,
   "metadata": {},
   "outputs": [
    {
     "name": "stdout",
     "output_type": "stream",
     "text": [
      "Fraud_Data Info:\n",
      "<class 'pandas.core.frame.DataFrame'>\n",
      "RangeIndex: 151112 entries, 0 to 151111\n",
      "Data columns (total 11 columns):\n",
      " #   Column          Non-Null Count   Dtype  \n",
      "---  ------          --------------   -----  \n",
      " 0   user_id         151112 non-null  int64  \n",
      " 1   signup_time     151112 non-null  object \n",
      " 2   purchase_time   151112 non-null  object \n",
      " 3   purchase_value  151112 non-null  int64  \n",
      " 4   device_id       151112 non-null  object \n",
      " 5   source          151112 non-null  object \n",
      " 6   browser         151112 non-null  object \n",
      " 7   sex             151112 non-null  object \n",
      " 8   age             151112 non-null  int64  \n",
      " 9   ip_address      151112 non-null  float64\n",
      " 10  class           151112 non-null  int64  \n",
      "dtypes: float64(1), int64(4), object(6)\n",
      "memory usage: 12.7+ MB\n",
      "None\n",
      "\n",
      "Creditcard Info:\n",
      "<class 'pandas.core.frame.DataFrame'>\n",
      "RangeIndex: 284807 entries, 0 to 284806\n",
      "Data columns (total 31 columns):\n",
      " #   Column  Non-Null Count   Dtype  \n",
      "---  ------  --------------   -----  \n",
      " 0   Time    284807 non-null  float64\n",
      " 1   V1      284807 non-null  float64\n",
      " 2   V2      284807 non-null  float64\n",
      " 3   V3      284807 non-null  float64\n",
      " 4   V4      284807 non-null  float64\n",
      " 5   V5      284807 non-null  float64\n",
      " 6   V6      284807 non-null  float64\n",
      " 7   V7      284807 non-null  float64\n",
      " 8   V8      284807 non-null  float64\n",
      " 9   V9      284807 non-null  float64\n",
      " 10  V10     284807 non-null  float64\n",
      " 11  V11     284807 non-null  float64\n",
      " 12  V12     284807 non-null  float64\n",
      " 13  V13     284807 non-null  float64\n",
      " 14  V14     284807 non-null  float64\n",
      " 15  V15     284807 non-null  float64\n",
      " 16  V16     284807 non-null  float64\n",
      " 17  V17     284807 non-null  float64\n",
      " 18  V18     284807 non-null  float64\n",
      " 19  V19     284807 non-null  float64\n",
      " 20  V20     284807 non-null  float64\n",
      " 21  V21     284807 non-null  float64\n",
      " 22  V22     284807 non-null  float64\n",
      " 23  V23     284807 non-null  float64\n",
      " 24  V24     284807 non-null  float64\n",
      " 25  V25     284807 non-null  float64\n",
      " 26  V26     284807 non-null  float64\n",
      " 27  V27     284807 non-null  float64\n",
      " 28  V28     284807 non-null  float64\n",
      " 29  Amount  284807 non-null  float64\n",
      " 30  Class   284807 non-null  int64  \n",
      "dtypes: float64(30), int64(1)\n",
      "memory usage: 67.4 MB\n",
      "None\n"
     ]
    }
   ],
   "source": [
    "# Import necessary libraries\n",
    "import pandas as pd\n",
    "import seaborn as sns\n",
    "import matplotlib.pyplot as plt\n",
    "import os\n",
    "\n",
    "# Create plots directory if it doesn't exist\n",
    "output_dir = '../plots'\n",
    "if not os.path.exists(output_dir):\n",
    "    os.makedirs(output_dir)\n",
    "\n",
    "# Set seaborn style for better visuals\n",
    "sns.set(style='whitegrid')\n",
    "\n",
    "# Load datasets\n",
    "fraud_df = pd.read_csv('../data/Fraud_Data.csv')\n",
    "creditcard_df = pd.read_csv('../data/creditcard.csv')\n",
    "\n",
    "# Display basic info about the datasets\n",
    "print('Fraud_Data Info:')\n",
    "print(fraud_df.info())\n",
    "print('\\nCreditcard Info:')\n",
    "print(creditcard_df.info())"
   ]
  },
  {
   "cell_type": "markdown",
   "metadata": {},
   "source": [
    "## Class Distribution Analysis\n",
    "\n",
    "Both datasets have imbalanced classes (few fraudulent transactions). We visualize the distribution of the target variables (`class` for `Fraud_Data`, `Class` for `creditcard`) to quantify the imbalance, which will inform the use of techniques like SMOTE and metrics like AUC-PR and F1-Score."
   ]
  },
  {
   "cell_type": "code",
   "execution_count": 3,
   "metadata": {},
   "outputs": [
    {
     "name": "stdout",
     "output_type": "stream",
     "text": [
      "Fraud_Data Class Distribution:\n",
      " class\n",
      "0    0.906354\n",
      "1    0.093646\n",
      "Name: proportion, dtype: float64\n",
      "\n",
      "Creditcard Class Distribution:\n",
      " Class\n",
      "0    0.998273\n",
      "1    0.001727\n",
      "Name: proportion, dtype: float64\n"
     ]
    }
   ],
   "source": [
    "# Class distribution for Fraud_Data\n",
    "plt.figure(figsize=(8, 6))\n",
    "sns.countplot(x='class', data=fraud_df)\n",
    "plt.title('Class Distribution in Fraud_Data (0: Non-Fraud, 1: Fraud)')\n",
    "plt.xlabel('Class')\n",
    "plt.ylabel('Count')\n",
    "plt.savefig(os.path.join(output_dir, 'fraud_class_distribution.png'))\n",
    "plt.close()  # Close the plot to free memory\n",
    "\n",
    "# Class distribution for creditcard\n",
    "plt.figure(figsize=(8, 6))\n",
    "sns.countplot(x='Class', data=creditcard_df)\n",
    "plt.title('Class Distribution in Creditcard (0: Non-Fraud, 1: Fraud)')\n",
    "plt.xlabel('Class')\n",
    "plt.ylabel('Count')\n",
    "plt.savefig(os.path.join(output_dir, 'creditcard_class_distribution.png'))\n",
    "plt.close()\n",
    "\n",
    "# Print class imbalance ratios\n",
    "fraud_ratio = fraud_df['class'].value_counts(normalize=True)\n",
    "creditcard_ratio = creditcard_df['Class'].value_counts(normalize=True)\n",
    "print('Fraud_Data Class Distribution:\\n', fraud_ratio)\n",
    "print('\\nCreditcard Class Distribution:\\n', creditcard_ratio)"
   ]
  },
  {
   "cell_type": "markdown",
   "metadata": {},
   "source": [
    "## Univariate Analysis\n",
    "\n",
    "We analyze the distributions of key numerical features (`purchase_value` and `age` for `Fraud_Data`, `Amount` for `creditcard`) to understand their ranges and shapes. This helps identify if features are skewed, which may require scaling (e.g., StandardScaler)."
   ]
  },
  {
   "cell_type": "code",
   "execution_count": 4,
   "metadata": {},
   "outputs": [],
   "source": [
    "# Purchase value distribution (Fraud_Data)\n",
    "plt.figure(figsize=(8, 6))\n",
    "sns.histplot(fraud_df['purchase_value'], bins=30, kde=True)\n",
    "plt.title('Purchase Value Distribution (Fraud_Data)')\n",
    "plt.xlabel('Purchase Value ($)')\n",
    "plt.ylabel('Count')\n",
    "plt.savefig(os.path.join(output_dir, 'purchase_value_distribution.png'))\n",
    "plt.close()\n",
    "\n",
    "# Age distribution (Fraud_Data)\n",
    "plt.figure(figsize=(8, 6))\n",
    "sns.histplot(fraud_df['age'], bins=30, kde=True)\n",
    "plt.title('Age Distribution (Fraud_Data)')\n",
    "plt.xlabel('Age')\n",
    "plt.ylabel('Count')\n",
    "plt.savefig(os.path.join(output_dir, 'age_distribution.png'))\n",
    "plt.close()\n",
    "\n",
    "# Amount distribution (creditcard)\n",
    "plt.figure(figsize=(8, 6))\n",
    "sns.histplot(creditcard_df['Amount'], bins=30, kde=True)\n",
    "plt.title('Transaction Amount Distribution (Creditcard)')\n",
    "plt.xlabel('Amount ($)')\n",
    "plt.ylabel('Count')\n",
    "plt.savefig(os.path.join(output_dir, 'creditcard_amount_distribution.png'))\n",
    "plt.close()"
   ]
  },
  {
   "cell_type": "markdown",
   "metadata": {},
   "source": [
    "## Bivariate Analysis\n",
    "\n",
    "We explore relationships between numerical features and the target variable to identify patterns associated with fraud. Boxplots are used to compare `purchase_value` and `age` vs. `class` in `Fraud_Data`, and `Amount` vs. `Class` in `creditcard`."
   ]
  },
  {
   "cell_type": "code",
   "execution_count": 5,
   "metadata": {},
   "outputs": [],
   "source": [
    "# Purchase value vs. Class (Fraud_Data)\n",
    "plt.figure(figsize=(8, 6))\n",
    "sns.boxplot(x='class', y='purchase_value', data=fraud_df)\n",
    "plt.title('Purchase Value vs. Class (Fraud_Data)')\n",
    "plt.xlabel('Class (0: Non-Fraud, 1: Fraud)')\n",
    "plt.ylabel('Purchase Value ($)')\n",
    "plt.savefig(os.path.join(output_dir, 'purchase_value_vs_class.png'))\n",
    "plt.close()\n",
    "\n",
    "# Age vs. Class (Fraud_Data)\n",
    "plt.figure(figsize=(8, 6))\n",
    "sns.boxplot(x='class', y='age', data=fraud_df)\n",
    "plt.title('Age vs. Class (Fraud_Data)')\n",
    "plt.xlabel('Class (0: Non-Fraud, 1: Fraud)')\n",
    "plt.ylabel('Age')\n",
    "plt.savefig(os.path.join(output_dir, 'age_vs_class.png'))\n",
    "plt.close()\n",
    "\n",
    "# Amount vs. Class (creditcard)\n",
    "plt.figure(figsize=(8, 6))\n",
    "sns.boxplot(x='Class', y='Amount', data=creditcard_df)\n",
    "plt.title('Transaction Amount vs. Class (Creditcard)')\n",
    "plt.xlabel('Class (0: Non-Fraud, 1: Fraud)')\n",
    "plt.ylabel('Amount ($)')\n",
    "plt.savefig(os.path.join(output_dir, 'creditcard_amount_vs_class.png'))\n",
    "plt.close()"
   ]
  },
  {
   "cell_type": "markdown",
   "metadata": {},
   "source": [
    "## Correlation Analysis (Creditcard Dataset)\n",
    "\n",
    "The `creditcard.csv` dataset contains anonymized PCA features (V1-V28). We use a correlation heatmap to identify relationships between features and the target `Class`, guiding feature selection."
   ]
  },
  {
   "cell_type": "code",
   "execution_count": 6,
   "metadata": {},
   "outputs": [
    {
     "name": "stdout",
     "output_type": "stream",
     "text": [
      "Correlations with Class (Creditcard):\n",
      "Class     1.000000\n",
      "V11       0.154876\n",
      "V4        0.133447\n",
      "V2        0.091289\n",
      "V21       0.040413\n",
      "V19       0.034783\n",
      "V20       0.020090\n",
      "V8        0.019875\n",
      "V27       0.017580\n",
      "V28       0.009536\n",
      "Amount    0.005632\n",
      "V26       0.004455\n",
      "V25       0.003308\n",
      "V22       0.000805\n",
      "V23      -0.002685\n",
      "V15      -0.004223\n",
      "V13      -0.004570\n",
      "V24      -0.007221\n",
      "Time     -0.012323\n",
      "V6       -0.043643\n",
      "V5       -0.094974\n",
      "V9       -0.097733\n",
      "V1       -0.101347\n",
      "V18      -0.111485\n",
      "V7       -0.187257\n",
      "V3       -0.192961\n",
      "V16      -0.196539\n",
      "V10      -0.216883\n",
      "V12      -0.260593\n",
      "V14      -0.302544\n",
      "V17      -0.326481\n",
      "Name: Class, dtype: float64\n"
     ]
    }
   ],
   "source": [
    "# Correlation heatmap for creditcard\n",
    "plt.figure(figsize=(12, 8))\n",
    "corr = creditcard_df.corr()\n",
    "sns.heatmap(corr, cmap='coolwarm', annot=False, vmin=-1, vmax=1)\n",
    "plt.title('Correlation Heatmap for Creditcard Dataset')\n",
    "plt.savefig(os.path.join(output_dir, 'creditcard_correlation_heatmap.png'))\n",
    "plt.close()\n",
    "\n",
    "# Print correlations with Class\n",
    "print('Correlations with Class (Creditcard):')\n",
    "print(corr['Class'].sort_values(ascending=False))"
   ]
  },
  {
   "cell_type": "markdown",
   "metadata": {},
   "source": [
    "## Categorical Feature Analysis (Fraud_Data)\n",
    "\n",
    "We analyze categorical features (`source`, `browser`, `sex`) in `Fraud_Data` to see their distribution and relationship with `class`. This informs feature engineering (e.g., one-hot encoding)."
   ]
  },
  {
   "cell_type": "code",
   "execution_count": 7,
   "metadata": {},
   "outputs": [],
   "source": [
    "# Source vs. Class (Fraud_Data)\n",
    "plt.figure(figsize=(8, 6))\n",
    "sns.countplot(x='source', hue='class', data=fraud_df)\n",
    "plt.title('Source vs. Class (Fraud_Data)')\n",
    "plt.xlabel('Source')\n",
    "plt.ylabel('Count')\n",
    "plt.savefig(os.path.join(output_dir, 'source_vs_class.png'))\n",
    "plt.close()\n",
    "\n",
    "# Browser vs. Class (Fraud_Data)\n",
    "plt.figure(figsize=(8, 6))\n",
    "sns.countplot(x='browser', hue='class', data=fraud_df)\n",
    "plt.title('Browser vs. Class (Fraud_Data)')\n",
    "plt.xlabel('Browser')\n",
    "plt.ylabel('Count')\n",
    "plt.savefig(os.path.join(output_dir, 'browser_vs_class.png'))\n",
    "plt.close()\n",
    "\n",
    "# Sex vs. Class (Fraud_Data)\n",
    "plt.figure(figsize=(8, 6))\n",
    "sns.countplot(x='sex', hue='class', data=fraud_df)\n",
    "plt.title('Sex vs. Class (Fraud_Data)')\n",
    "plt.xlabel('Sex')\n",
    "plt.ylabel('Count')\n",
    "plt.savefig(os.path.join(output_dir, 'sex_vs_class.png'))\n",
    "plt.close()"
   ]
  },
  {
   "cell_type": "markdown",
   "metadata": {},
   "source": [
    "## Summary of Findings\n",
    "\n",
    "* Class Imbalance: Significant imbalance with few fraudulent transactions, justifying SMOTE and AUC-PR/F1-Score.\n",
    "* Feature Distributions: purchase_value and Amount are skewed, suggesting scaling; age may indicate fraud-prone groups.\n",
    "* Bivariate Insights: Differences in purchase_value or Amount between classes hint at predictive potential.\n",
    "* Correlations: Some PCA features (V1-V28) in creditcard correlate with Class, aiding feature selection.\n",
    "* Categorical Features: Patterns in source, browser, sex vs. class suggest feature engineering (e.g., one-hot encoding).\n",
    "* Class Imbalance: Significant imbalance with few fraudulent transactions, justifying SMOTE and AUC-PR/F1-Score.\n",
    "* Feature Insights: purchase_value and Amount are skewed (suggesting scaling), while age and PCA features (V1-V28) in creditcard show predictive potential.\n",
    "* Categorical Patterns: source, browser, sex vs. class suggest feature engineering (e.g., one-hot encoding)."
   ]
  }
 ],
 "metadata": {
  "kernelspec": {
   "display_name": ".venv",
   "language": "python",
   "name": "python3"
  },
  "language_info": {
   "codemirror_mode": {
    "name": "ipython",
    "version": 3
   },
   "file_extension": ".py",
   "mimetype": "text/x-python",
   "name": "python",
   "nbconvert_exporter": "python",
   "pygments_lexer": "ipython3",
   "version": "3.10.13"
  }
 },
 "nbformat": 4,
 "nbformat_minor": 2
}
